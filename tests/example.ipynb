{
 "cells": [
  {
   "cell_type": "code",
   "execution_count": 29,
   "id": "f4e52ad9-18a8-42c6-9b1c-47948a28f7f5",
   "metadata": {
    "execution": {
     "iopub.execute_input": "2024-04-11T01:37:31.789721Z",
     "iopub.status.busy": "2024-04-11T01:37:31.788652Z",
     "iopub.status.idle": "2024-04-11T01:37:31.794158Z",
     "shell.execute_reply": "2024-04-11T01:37:31.793519Z",
     "shell.execute_reply.started": "2024-04-11T01:37:31.789678Z"
    }
   },
   "outputs": [
    {
     "data": {
      "text/plain": [
       "'0.0.4.dev1+gaa90db5'"
      ]
     },
     "execution_count": 29,
     "metadata": {},
     "output_type": "execute_result"
    }
   ],
   "source": [
    "# mamba install -y mallet\n",
    "# pip install -U scmallet\n",
    "\n",
    "import scmallet\n",
    "\n",
    "scmallet.__version__"
   ]
  },
  {
   "cell_type": "code",
   "execution_count": 30,
   "id": "ee894f47-e69f-4326-bf16-4194bd6c7035",
   "metadata": {
    "execution": {
     "iopub.execute_input": "2024-04-11T01:37:35.793543Z",
     "iopub.status.busy": "2024-04-11T01:37:35.792768Z",
     "iopub.status.idle": "2024-04-11T01:37:36.263861Z",
     "shell.execute_reply": "2024-04-11T01:37:36.262886Z",
     "shell.execute_reply.started": "2024-04-11T01:37:35.793514Z"
    }
   },
   "outputs": [
    {
     "name": "stdout",
     "output_type": "stream",
     "text": [
      "Unrecognized command: --version\n",
      "Mallet 2.0 commands: \n",
      "\n",
      "  import-dir         load the contents of a directory into mallet instances (one per file)\n",
      "  import-file        load a single file into mallet instances (one per line)\n",
      "  import-svmlight    load SVMLight format data files into Mallet instances\n",
      "  info               get information about Mallet instances\n",
      "  train-classifier   train a classifier from Mallet data files\n",
      "  classify-dir       classify data from a single file with a saved classifier\n",
      "  classify-file      classify the contents of a directory with a saved classifier\n",
      "  classify-svmlight  classify data from a single file in SVMLight format\n",
      "  train-topics       train a topic model from Mallet data files\n",
      "  infer-topics       use a trained topic model to infer topics for new documents\n",
      "  evaluate-topics    estimate the probability of new documents under a trained model\n",
      "  prune              remove features based on frequency or information gain\n",
      "  split              divide data into testing, training, and validation portions\n",
      "  bulk-load          for big input files, efficiently prune vocabulary and import docs\n",
      "\n",
      "Include --help with any option for more information\n"
     ]
    }
   ],
   "source": [
    "!mallet --version"
   ]
  },
  {
   "cell_type": "code",
   "execution_count": 2,
   "id": "11477ad1-25e3-4842-b2a3-21ac9420d826",
   "metadata": {
    "execution": {
     "iopub.execute_input": "2024-04-11T01:30:12.753613Z",
     "iopub.status.busy": "2024-04-11T01:30:12.753013Z",
     "iopub.status.idle": "2024-04-11T01:30:16.011392Z",
     "shell.execute_reply": "2024-04-11T01:30:16.010529Z",
     "shell.execute_reply.started": "2024-04-11T01:30:12.753582Z"
    }
   },
   "outputs": [],
   "source": [
    "from scmallet import Mallet, binarize_topics"
   ]
  },
  {
   "cell_type": "code",
   "execution_count": 3,
   "id": "9784cfd2-8001-48f9-ab7d-35f7220a1d3d",
   "metadata": {
    "execution": {
     "iopub.execute_input": "2024-04-11T01:30:16.707437Z",
     "iopub.status.busy": "2024-04-11T01:30:16.706205Z",
     "iopub.status.idle": "2024-04-11T01:30:16.711931Z",
     "shell.execute_reply": "2024-04-11T01:30:16.711230Z",
     "shell.execute_reply.started": "2024-04-11T01:30:16.707377Z"
    }
   },
   "outputs": [],
   "source": [
    "mallet = Mallet(output_dir=\"cistopic\")"
   ]
  },
  {
   "cell_type": "code",
   "execution_count": 4,
   "id": "cd6b9a45-5b7d-4949-b917-16dcef5cc45a",
   "metadata": {
    "execution": {
     "iopub.execute_input": "2024-04-11T01:30:17.361617Z",
     "iopub.status.busy": "2024-04-11T01:30:17.360934Z",
     "iopub.status.idle": "2024-04-11T01:30:17.364750Z",
     "shell.execute_reply": "2024-04-11T01:30:17.364097Z",
     "shell.execute_reply.started": "2024-04-11T01:30:17.361584Z"
    }
   },
   "outputs": [],
   "source": [
    "import anndata\n",
    "import numpy as np"
   ]
  },
  {
   "cell_type": "code",
   "execution_count": 5,
   "id": "ece58c37-c649-482f-9f5c-6af066fa0f6a",
   "metadata": {
    "execution": {
     "iopub.execute_input": "2024-04-11T01:30:21.630411Z",
     "iopub.status.busy": "2024-04-11T01:30:21.629548Z",
     "iopub.status.idle": "2024-04-11T01:30:21.647967Z",
     "shell.execute_reply": "2024-04-11T01:30:21.647151Z",
     "shell.execute_reply.started": "2024-04-11T01:30:21.630372Z"
    }
   },
   "outputs": [],
   "source": [
    "X = np.random.randint(0, 2, size=(100, 10000))\n",
    "adata = anndata.AnnData(X=X)"
   ]
  },
  {
   "cell_type": "markdown",
   "id": "d745db41-2a35-45b9-86cd-5c847fb6de6a",
   "metadata": {},
   "source": [
    "## Fit"
   ]
  },
  {
   "cell_type": "code",
   "execution_count": 6,
   "id": "d0366514-9868-40fd-9a1c-6fa870690b88",
   "metadata": {
    "execution": {
     "iopub.execute_input": "2024-04-11T01:30:21.846380Z",
     "iopub.status.busy": "2024-04-11T01:30:21.845566Z",
     "iopub.status.idle": "2024-04-11T01:30:26.202559Z",
     "shell.execute_reply": "2024-04-11T01:30:26.201646Z",
     "shell.execute_reply.started": "2024-04-11T01:30:21.846346Z"
    }
   },
   "outputs": [
    {
     "name": "stderr",
     "output_type": "stream",
     "text": [
      "2024-04-11 01:30:25,216\tINFO worker.py:1752 -- Started a local Ray instance.\n"
     ]
    }
   ],
   "source": [
    "mallet.fit(\n",
    "    num_topics=[5, 10],\n",
    "    data=adata,  # can also provide a adata path or sparse matrix, will be binarized internally\n",
    "    cpu_per_task=8,\n",
    "    mem_gb=16,  # not really MEM intensive\n",
    "    # other arguments goes into mallet.train\n",
    "    iterations=300,\n",
    ")"
   ]
  },
  {
   "cell_type": "markdown",
   "id": "18ceb914-571d-47a5-a773-1cbd48cdb51b",
   "metadata": {},
   "source": [
    "### Re-fit with more iterations, or resume from interuption"
   ]
  },
  {
   "cell_type": "code",
   "execution_count": 8,
   "id": "7c941823-243f-409f-90e9-abe1ffe9cb37",
   "metadata": {
    "execution": {
     "iopub.execute_input": "2024-04-11T01:31:05.698080Z",
     "iopub.status.busy": "2024-04-11T01:31:05.697350Z",
     "iopub.status.idle": "2024-04-11T01:31:05.707808Z",
     "shell.execute_reply": "2024-04-11T01:31:05.707055Z",
     "shell.execute_reply.started": "2024-04-11T01:31:05.698040Z"
    }
   },
   "outputs": [],
   "source": [
    "# once the mallet model has been fit, it can be re-fit with more iterations\n",
    "mallet.fit(\n",
    "    num_topics=[5, 10],\n",
    "    data=adata,\n",
    "    cpu_per_task=8,\n",
    "    mem_gb=16,  # not really MEM intensive\n",
    "    # other arguments goes into mallet.train\n",
    "    iterations=500,\n",
    ")"
   ]
  },
  {
   "cell_type": "markdown",
   "id": "f3653795-137d-4301-949c-27ba29f5af86",
   "metadata": {},
   "source": [
    "### Note that if the model has been trained with enough iterations, no more fit will be done"
   ]
  },
  {
   "cell_type": "code",
   "execution_count": 9,
   "id": "d282db9a-48da-44a1-a85d-dae5c79892a1",
   "metadata": {
    "execution": {
     "iopub.execute_input": "2024-04-11T01:31:36.674168Z",
     "iopub.status.busy": "2024-04-11T01:31:36.673462Z",
     "iopub.status.idle": "2024-04-11T01:31:36.683369Z",
     "shell.execute_reply": "2024-04-11T01:31:36.682688Z",
     "shell.execute_reply.started": "2024-04-11T01:31:36.674130Z"
    }
   },
   "outputs": [],
   "source": [
    "# this will not trigger re-fit\n",
    "\n",
    "mallet.fit(\n",
    "    num_topics=[5, 10],\n",
    "    data=adata,\n",
    "    cpu_per_task=8,\n",
    "    mem_gb=16,\n",
    "    iterations=400,\n",
    ")"
   ]
  },
  {
   "cell_type": "markdown",
   "id": "a4376cf2-a978-4b41-8b51-4cc610620a39",
   "metadata": {},
   "source": [
    "## Topics"
   ]
  },
  {
   "cell_type": "code",
   "execution_count": 10,
   "id": "37b10c6f-0830-4b20-a1f9-757810599131",
   "metadata": {
    "execution": {
     "iopub.execute_input": "2024-04-11T01:31:47.150263Z",
     "iopub.status.busy": "2024-04-11T01:31:47.149635Z",
     "iopub.status.idle": "2024-04-11T01:31:47.171644Z",
     "shell.execute_reply": "2024-04-11T01:31:47.170931Z",
     "shell.execute_reply.started": "2024-04-11T01:31:47.150231Z"
    }
   },
   "outputs": [
    {
     "name": "stdout",
     "output_type": "stream",
     "text": [
      "cell_topics (100, 5)\n",
      "region_topics (10000, 5)\n"
     ]
    }
   ],
   "source": [
    "num_topics = 5\n",
    "\n",
    "cell_topics = mallet.get_cell_topics(num_topics)\n",
    "region_topics = mallet.get_region_topics(num_topics)\n",
    "\n",
    "print(\"cell_topics\", cell_topics.shape)\n",
    "print(\"region_topics\", region_topics.shape)"
   ]
  },
  {
   "cell_type": "markdown",
   "id": "7f9ef9b8-b949-4953-9a31-e8420999928c",
   "metadata": {},
   "source": [
    "## Inference In Parallel"
   ]
  },
  {
   "cell_type": "code",
   "execution_count": 12,
   "id": "376a079e-93de-460c-b568-bb702b7295a4",
   "metadata": {
    "execution": {
     "iopub.execute_input": "2024-04-11T01:32:11.773613Z",
     "iopub.status.busy": "2024-04-11T01:32:11.772852Z",
     "iopub.status.idle": "2024-04-11T01:32:11.846162Z",
     "shell.execute_reply": "2024-04-11T01:32:11.845378Z",
     "shell.execute_reply.started": "2024-04-11T01:32:11.773582Z"
    }
   },
   "outputs": [
    {
     "data": {
      "text/plain": [
       "AnnData object with n_obs × n_vars = 1000 × 10000"
      ]
     },
     "execution_count": 12,
     "metadata": {},
     "output_type": "execute_result"
    }
   ],
   "source": [
    "X = np.random.randint(0, 2, size=(1000, 10000))\n",
    "large_adata = anndata.AnnData(X=X)\n",
    "large_adata"
   ]
  },
  {
   "cell_type": "code",
   "execution_count": 13,
   "id": "70023e53-2cd2-4f71-8e18-74af8a7c2593",
   "metadata": {
    "execution": {
     "iopub.execute_input": "2024-04-11T01:32:12.498448Z",
     "iopub.status.busy": "2024-04-11T01:32:12.497801Z",
     "iopub.status.idle": "2024-04-11T01:32:52.759831Z",
     "shell.execute_reply": "2024-04-11T01:32:52.759028Z",
     "shell.execute_reply.started": "2024-04-11T01:32:12.498413Z"
    }
   },
   "outputs": [],
   "source": [
    "# once the mallet model has been fit, it can be re-fit with more iterations\n",
    "mallet.infer_adata(large_adata)"
   ]
  },
  {
   "cell_type": "code",
   "execution_count": 18,
   "id": "1c21b282-8821-4921-abde-f5bfe1231be2",
   "metadata": {
    "execution": {
     "iopub.execute_input": "2024-04-11T01:34:13.968130Z",
     "iopub.status.busy": "2024-04-11T01:34:13.967290Z",
     "iopub.status.idle": "2024-04-11T01:34:13.985927Z",
     "shell.execute_reply": "2024-04-11T01:34:13.985225Z",
     "shell.execute_reply.started": "2024-04-11T01:34:13.968098Z"
    }
   },
   "outputs": [],
   "source": [
    "# manually add region topics if needed\n",
    "for num_topic in mallet.trained_num_topics:\n",
    "    large_adata.varm[f\"cistopic.topic{num_topic}\"] = mallet.get_region_topics(num_topic)"
   ]
  },
  {
   "cell_type": "code",
   "execution_count": 19,
   "id": "1d5823e9-3b6c-4a3c-841d-5061db6f179d",
   "metadata": {
    "execution": {
     "iopub.execute_input": "2024-04-11T01:34:16.655427Z",
     "iopub.status.busy": "2024-04-11T01:34:16.654799Z",
     "iopub.status.idle": "2024-04-11T01:34:16.660368Z",
     "shell.execute_reply": "2024-04-11T01:34:16.659539Z",
     "shell.execute_reply.started": "2024-04-11T01:34:16.655389Z"
    }
   },
   "outputs": [
    {
     "data": {
      "text/plain": [
       "AnnData object with n_obs × n_vars = 1000 × 10000\n",
       "    obsm: 'cistopic.topic10', 'cistopic.topic5'\n",
       "    varm: 'cistopic.topic10', 'cistopic.topic5'"
      ]
     },
     "execution_count": 19,
     "metadata": {},
     "output_type": "execute_result"
    }
   ],
   "source": [
    "large_adata"
   ]
  },
  {
   "cell_type": "markdown",
   "id": "84f55fa0-f5b1-4047-9ee5-bba806c5a0d9",
   "metadata": {},
   "source": [
    "## Binarize topics"
   ]
  },
  {
   "cell_type": "code",
   "execution_count": 28,
   "id": "206176dc-7aeb-48bd-8f02-01317bf592c6",
   "metadata": {
    "execution": {
     "iopub.execute_input": "2024-04-11T01:36:59.871164Z",
     "iopub.status.busy": "2024-04-11T01:36:59.870375Z",
     "iopub.status.idle": "2024-04-11T01:36:59.915254Z",
     "shell.execute_reply": "2024-04-11T01:36:59.914478Z",
     "shell.execute_reply.started": "2024-04-11T01:36:59.871133Z"
    }
   },
   "outputs": [
    {
     "data": {
      "text/html": [
       "<div>\n",
       "<style scoped>\n",
       "    .dataframe tbody tr th:only-of-type {\n",
       "        vertical-align: middle;\n",
       "    }\n",
       "\n",
       "    .dataframe tbody tr th {\n",
       "        vertical-align: top;\n",
       "    }\n",
       "\n",
       "    .dataframe thead th {\n",
       "        text-align: right;\n",
       "    }\n",
       "</style>\n",
       "<table border=\"1\" class=\"dataframe\">\n",
       "  <thead>\n",
       "    <tr style=\"text-align: right;\">\n",
       "      <th></th>\n",
       "      <th>0</th>\n",
       "      <th>1</th>\n",
       "      <th>2</th>\n",
       "      <th>3</th>\n",
       "      <th>4</th>\n",
       "      <th>5</th>\n",
       "      <th>6</th>\n",
       "      <th>7</th>\n",
       "      <th>8</th>\n",
       "      <th>9</th>\n",
       "    </tr>\n",
       "  </thead>\n",
       "  <tbody>\n",
       "    <tr>\n",
       "      <th>0</th>\n",
       "      <td>True</td>\n",
       "      <td>False</td>\n",
       "      <td>False</td>\n",
       "      <td>True</td>\n",
       "      <td>True</td>\n",
       "      <td>True</td>\n",
       "      <td>False</td>\n",
       "      <td>False</td>\n",
       "      <td>True</td>\n",
       "      <td>True</td>\n",
       "    </tr>\n",
       "    <tr>\n",
       "      <th>1</th>\n",
       "      <td>False</td>\n",
       "      <td>True</td>\n",
       "      <td>True</td>\n",
       "      <td>True</td>\n",
       "      <td>True</td>\n",
       "      <td>False</td>\n",
       "      <td>False</td>\n",
       "      <td>False</td>\n",
       "      <td>False</td>\n",
       "      <td>False</td>\n",
       "    </tr>\n",
       "    <tr>\n",
       "      <th>2</th>\n",
       "      <td>False</td>\n",
       "      <td>True</td>\n",
       "      <td>True</td>\n",
       "      <td>False</td>\n",
       "      <td>True</td>\n",
       "      <td>False</td>\n",
       "      <td>False</td>\n",
       "      <td>True</td>\n",
       "      <td>True</td>\n",
       "      <td>False</td>\n",
       "    </tr>\n",
       "    <tr>\n",
       "      <th>3</th>\n",
       "      <td>True</td>\n",
       "      <td>False</td>\n",
       "      <td>True</td>\n",
       "      <td>False</td>\n",
       "      <td>True</td>\n",
       "      <td>False</td>\n",
       "      <td>False</td>\n",
       "      <td>True</td>\n",
       "      <td>False</td>\n",
       "      <td>True</td>\n",
       "    </tr>\n",
       "    <tr>\n",
       "      <th>4</th>\n",
       "      <td>False</td>\n",
       "      <td>False</td>\n",
       "      <td>True</td>\n",
       "      <td>False</td>\n",
       "      <td>True</td>\n",
       "      <td>True</td>\n",
       "      <td>True</td>\n",
       "      <td>True</td>\n",
       "      <td>False</td>\n",
       "      <td>True</td>\n",
       "    </tr>\n",
       "  </tbody>\n",
       "</table>\n",
       "</div>"
      ],
      "text/plain": [
       "       0      1      2      3     4      5      6      7      8      9\n",
       "0   True  False  False   True  True   True  False  False   True   True\n",
       "1  False   True   True   True  True  False  False  False  False  False\n",
       "2  False   True   True  False  True  False  False   True   True  False\n",
       "3   True  False   True  False  True  False  False   True  False   True\n",
       "4  False  False   True  False  True   True   True   True  False   True"
      ]
     },
     "execution_count": 28,
     "metadata": {},
     "output_type": "execute_result"
    }
   ],
   "source": [
    "import pandas as pd\n",
    "\n",
    "cell_topic_df = pd.DataFrame(large_adata.obsm[\"cistopic.topic10\"], index=large_adata.obs_names)\n",
    "cell_binary_topics = binarize_topics(cell_topic_df)\n",
    "cell_binary_topics.head()"
   ]
  },
  {
   "cell_type": "code",
   "execution_count": null,
   "id": "5ec255ee-d057-435d-b16c-328621ff1afd",
   "metadata": {},
   "outputs": [],
   "source": []
  },
  {
   "cell_type": "code",
   "execution_count": null,
   "id": "c2f4edd2-6d0c-4169-9b08-0564c00252d8",
   "metadata": {},
   "outputs": [],
   "source": []
  },
  {
   "cell_type": "code",
   "execution_count": null,
   "id": "ea84bb60-28c6-49c0-b9d3-ed722235efb7",
   "metadata": {},
   "outputs": [],
   "source": []
  },
  {
   "cell_type": "code",
   "execution_count": null,
   "id": "d56c2f3e-34e9-4385-aa98-02462cb28c61",
   "metadata": {},
   "outputs": [],
   "source": []
  },
  {
   "cell_type": "code",
   "execution_count": null,
   "id": "484d92c2-285a-450f-9af9-6d3bf0f1d8cc",
   "metadata": {},
   "outputs": [],
   "source": []
  }
 ],
 "metadata": {
  "kernelspec": {
   "display_name": "Python 3 (ipykernel)",
   "language": "python",
   "name": "python3"
  },
  "language_info": {
   "codemirror_mode": {
    "name": "ipython",
    "version": 3
   },
   "file_extension": ".py",
   "mimetype": "text/x-python",
   "name": "python",
   "nbconvert_exporter": "python",
   "pygments_lexer": "ipython3",
   "version": "3.10.8"
  }
 },
 "nbformat": 4,
 "nbformat_minor": 5
}
